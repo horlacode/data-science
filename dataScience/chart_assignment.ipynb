{
 "cells": [
  {
   "cell_type": "code",
   "execution_count": 108,
   "metadata": {},
   "outputs": [],
   "source": [
    "import matplotlib.pyplot as plt\n",
    "import math as mt\n",
    "import statistics as st\n",
    "\n",
    "import pandas as pd \n",
    "\n",
    "%matplotlib inline"
   ]
  },
  {
   "cell_type": "code",
   "execution_count": 109,
   "metadata": {},
   "outputs": [],
   "source": [
    "ref = pd.read_csv('exchange.csv')"
   ]
  },
  {
   "cell_type": "code",
   "execution_count": 110,
   "metadata": {},
   "outputs": [
    {
     "data": {
      "text/html": [
       "<div>\n",
       "<style scoped>\n",
       "    .dataframe tbody tr th:only-of-type {\n",
       "        vertical-align: middle;\n",
       "    }\n",
       "\n",
       "    .dataframe tbody tr th {\n",
       "        vertical-align: top;\n",
       "    }\n",
       "\n",
       "    .dataframe thead th {\n",
       "        text-align: right;\n",
       "    }\n",
       "</style>\n",
       "<table border=\"1\" class=\"dataframe\">\n",
       "  <thead>\n",
       "    <tr style=\"text-align: right;\">\n",
       "      <th></th>\n",
       "      <th>Rate Date</th>\n",
       "      <th>Currency</th>\n",
       "      <th>Rate Year</th>\n",
       "      <th>Rate Month</th>\n",
       "      <th>Buying Rate</th>\n",
       "      <th>Central Rate</th>\n",
       "      <th>Selling Rate</th>\n",
       "    </tr>\n",
       "  </thead>\n",
       "  <tbody>\n",
       "    <tr>\n",
       "      <td>0</td>\n",
       "      <td>6/11/2020</td>\n",
       "      <td>US DOLLAR</td>\n",
       "      <td>2020</td>\n",
       "      <td>June</td>\n",
       "      <td>360.0000</td>\n",
       "      <td>360.5000</td>\n",
       "      <td>361.0000</td>\n",
       "    </tr>\n",
       "    <tr>\n",
       "      <td>1</td>\n",
       "      <td>6/11/2020</td>\n",
       "      <td>POUNDS STERLING</td>\n",
       "      <td>2020</td>\n",
       "      <td>June</td>\n",
       "      <td>455.4000</td>\n",
       "      <td>456.0325</td>\n",
       "      <td>456.6650</td>\n",
       "    </tr>\n",
       "    <tr>\n",
       "      <td>2</td>\n",
       "      <td>6/11/2020</td>\n",
       "      <td>EURO</td>\n",
       "      <td>2020</td>\n",
       "      <td>June</td>\n",
       "      <td>408.7080</td>\n",
       "      <td>409.2757</td>\n",
       "      <td>409.8433</td>\n",
       "    </tr>\n",
       "    <tr>\n",
       "      <td>3</td>\n",
       "      <td>6/11/2020</td>\n",
       "      <td>SWISS FRANC</td>\n",
       "      <td>2020</td>\n",
       "      <td>June</td>\n",
       "      <td>382.1250</td>\n",
       "      <td>382.6558</td>\n",
       "      <td>383.1865</td>\n",
       "    </tr>\n",
       "    <tr>\n",
       "      <td>4</td>\n",
       "      <td>6/11/2020</td>\n",
       "      <td>YEN</td>\n",
       "      <td>2020</td>\n",
       "      <td>June</td>\n",
       "      <td>3.3626</td>\n",
       "      <td>3.3673</td>\n",
       "      <td>3.3719</td>\n",
       "    </tr>\n",
       "    <tr>\n",
       "      <td>...</td>\n",
       "      <td>...</td>\n",
       "      <td>...</td>\n",
       "      <td>...</td>\n",
       "      <td>...</td>\n",
       "      <td>...</td>\n",
       "      <td>...</td>\n",
       "      <td>...</td>\n",
       "    </tr>\n",
       "    <tr>\n",
       "      <td>43726</td>\n",
       "      <td>12/10/2001</td>\n",
       "      <td>CFA</td>\n",
       "      <td>2001</td>\n",
       "      <td>December</td>\n",
       "      <td>0.1514</td>\n",
       "      <td>0.1521</td>\n",
       "      <td>0.1528</td>\n",
       "    </tr>\n",
       "    <tr>\n",
       "      <td>43727</td>\n",
       "      <td>12/10/2001</td>\n",
       "      <td>EURO</td>\n",
       "      <td>2001</td>\n",
       "      <td>December</td>\n",
       "      <td>99.3787</td>\n",
       "      <td>99.8230</td>\n",
       "      <td>100.2670</td>\n",
       "    </tr>\n",
       "    <tr>\n",
       "      <td>43728</td>\n",
       "      <td>12/10/2001</td>\n",
       "      <td>WAUA</td>\n",
       "      <td>2001</td>\n",
       "      <td>December</td>\n",
       "      <td>138.8876</td>\n",
       "      <td>139.5084</td>\n",
       "      <td>140.1293</td>\n",
       "    </tr>\n",
       "    <tr>\n",
       "      <td>43729</td>\n",
       "      <td>12/10/2001</td>\n",
       "      <td>US DOLLAR</td>\n",
       "      <td>2001</td>\n",
       "      <td>December</td>\n",
       "      <td>111.8500</td>\n",
       "      <td>112.3500</td>\n",
       "      <td>112.8500</td>\n",
       "    </tr>\n",
       "    <tr>\n",
       "      <td>43730</td>\n",
       "      <td>12/10/2001</td>\n",
       "      <td>YEN</td>\n",
       "      <td>2001</td>\n",
       "      <td>December</td>\n",
       "      <td>0.8881</td>\n",
       "      <td>0.8921</td>\n",
       "      <td>0.8961</td>\n",
       "    </tr>\n",
       "  </tbody>\n",
       "</table>\n",
       "<p>43731 rows × 7 columns</p>\n",
       "</div>"
      ],
      "text/plain": [
       "        Rate Date         Currency  Rate Year Rate Month  Buying Rate  \\\n",
       "0       6/11/2020        US DOLLAR       2020       June     360.0000   \n",
       "1       6/11/2020  POUNDS STERLING       2020       June     455.4000   \n",
       "2       6/11/2020             EURO       2020       June     408.7080   \n",
       "3       6/11/2020      SWISS FRANC       2020       June     382.1250   \n",
       "4       6/11/2020              YEN       2020       June       3.3626   \n",
       "...           ...              ...        ...        ...          ...   \n",
       "43726  12/10/2001              CFA       2001   December       0.1514   \n",
       "43727  12/10/2001             EURO       2001   December      99.3787   \n",
       "43728  12/10/2001             WAUA       2001   December     138.8876   \n",
       "43729  12/10/2001        US DOLLAR       2001   December     111.8500   \n",
       "43730  12/10/2001              YEN       2001   December       0.8881   \n",
       "\n",
       "       Central Rate  Selling Rate  \n",
       "0          360.5000      361.0000  \n",
       "1          456.0325      456.6650  \n",
       "2          409.2757      409.8433  \n",
       "3          382.6558      383.1865  \n",
       "4            3.3673        3.3719  \n",
       "...             ...           ...  \n",
       "43726        0.1521        0.1528  \n",
       "43727       99.8230      100.2670  \n",
       "43728      139.5084      140.1293  \n",
       "43729      112.3500      112.8500  \n",
       "43730        0.8921        0.8961  \n",
       "\n",
       "[43731 rows x 7 columns]"
      ]
     },
     "execution_count": 110,
     "metadata": {},
     "output_type": "execute_result"
    }
   ],
   "source": [
    "ref"
   ]
  },
  {
   "cell_type": "code",
   "execution_count": 111,
   "metadata": {},
   "outputs": [],
   "source": [
    "ref[['Rate Year','Selling Rate','Currency']]\n",
    "ref[(ref['Currency']=='US DOLLAR' )  ] ['Selling Rate']\n",
    "dol = st.mean(ref[(ref['Currency']=='US DOLLAR')] ['Selling Rate'])\n",
    "dollar = mt.floor(dol)\n"
   ]
  },
  {
   "cell_type": "code",
   "execution_count": 112,
   "metadata": {},
   "outputs": [
    {
     "data": {
      "text/plain": [
       "179"
      ]
     },
     "execution_count": 112,
     "metadata": {},
     "output_type": "execute_result"
    }
   ],
   "source": [
    "dollar"
   ]
  },
  {
   "cell_type": "code",
   "execution_count": 113,
   "metadata": {},
   "outputs": [],
   "source": [
    "ref[['Rate Year','Selling Rate','Currency']]\n",
    "ref[(ref['Currency']=='YEN' )  ] ['Selling Rate']\n",
    "yen = st.mean(ref[(ref['Currency']=='YEN')] ['Selling Rate'])\n",
    "yen = mt.floor(yen)\n"
   ]
  },
  {
   "cell_type": "code",
   "execution_count": 114,
   "metadata": {},
   "outputs": [
    {
     "data": {
      "text/plain": [
       "1"
      ]
     },
     "execution_count": 114,
     "metadata": {},
     "output_type": "execute_result"
    }
   ],
   "source": [
    "yen"
   ]
  },
  {
   "cell_type": "code",
   "execution_count": 115,
   "metadata": {},
   "outputs": [],
   "source": [
    "ref[['Rate Year','Selling Rate','Currency']]\n",
    "ref[(ref['Currency']=='SWISS FRANC' )  ] ['Selling Rate']\n",
    "swiss = st.mean(ref[(ref['Currency']=='SWISS FRANC')] ['Selling Rate'])\n",
    "swiss = mt.floor(swiss)\n"
   ]
  },
  {
   "cell_type": "code",
   "execution_count": 116,
   "metadata": {},
   "outputs": [
    {
     "data": {
      "text/plain": [
       "658"
      ]
     },
     "execution_count": 116,
     "metadata": {},
     "output_type": "execute_result"
    }
   ],
   "source": [
    "swiss"
   ]
  },
  {
   "cell_type": "code",
   "execution_count": 117,
   "metadata": {},
   "outputs": [],
   "source": [
    "Data = [dollar,yen,swiss]\n",
    "labels = 'dollar','yen','swiss'"
   ]
  },
  {
   "cell_type": "code",
   "execution_count": 118,
   "metadata": {},
   "outputs": [
    {
     "data": {
      "image/png": "[encoded data removed]",
      "text/plain": [
       "<Figure size 576x576 with 1 Axes>"
      ]
     },
     "metadata": {},
     "output_type": "display_data"
    }
   ],
   "source": [
    "fig,ax = plt.subplots(figsize=(8,8))\n",
    "\n",
    "\n",
    "\n",
    "ax.pie(Data,labels=labels,autopct='%1.1f%%',startangle=90,explode=(0.1,0.1,0.1),shadow=True)#to show the percent we do autopct='%1.1f%%'\n",
    "plt.show()"
   ]
  },
  {
   "cell_type": "code",
   "execution_count": 119,
   "metadata": {},
   "outputs": [],
   "source": [
    "ref[['Rate Year','Selling Rate','Currency']]\n",
    "dol_max = max((ref[(ref['Currency']=='US DOLLAR')] ['Selling Rate']))\n",
    "yen_max = max((ref[(ref['Currency']=='YEN')] ['Selling Rate']))\n",
    "swiss_max = max((ref[(ref['Currency']=='SWISS FRANC')] ['Selling Rate']))"
   ]
  },
  {
   "cell_type": "code",
   "execution_count": 120,
   "metadata": {},
   "outputs": [],
   "source": [
    "dola =mt.floor(dol_max)\n",
    "yena =mt.floor(yen_max)\n",
    "swisss = yena =mt.floor(swiss_max)"
   ]
  },
  {
   "cell_type": "code",
   "execution_count": 124,
   "metadata": {},
   "outputs": [
    {
     "data": {
      "image/png": "[encoded data removed]",
      "text/plain": [
       "<Figure size 432x288 with 1 Axes>"
      ]
     },
     "metadata": {
      "needs_background": "light"
     },
     "output_type": "display_data"
    }
   ],
   "source": [
    "plt.subplots()\n",
    "plt.bar(labels,Data)\n",
    "plt.show()"
   ]
  },
  {
   "cell_type": "code",
   "execution_count": null,
   "metadata": {},
   "outputs": [],
   "source": []
  }
 ],
 "metadata": {
  "kernelspec": {
   "display_name": "Python 3",
   "language": "python",
   "name": "python3"
  },
  "language_info": {
   "codemirror_mode": {
    "name": "ipython",
    "version": 3
   },
   "file_extension": ".py",
   "mimetype": "text/x-python",
   "name": "python",
   "nbconvert_exporter": "python",
   "pygments_lexer": "ipython3",
   "version": "3.7.4"
  }
 },
 "nbformat": 4,
 "nbformat_minor": 2
}
