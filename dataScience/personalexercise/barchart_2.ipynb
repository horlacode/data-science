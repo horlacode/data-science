{
 "cells": [
  {
   "cell_type": "code",
   "execution_count": 63,
   "metadata": {},
   "outputs": [],
   "source": [
    "import matplotlib.pyplot as plt\n",
    "import math as mt\n",
    "import numpy as np\n",
    "import pandas as pd\n",
    "\n",
    "%matplotlib inline"
   ]
  },
  {
   "cell_type": "code",
   "execution_count": 64,
   "metadata": {},
   "outputs": [],
   "source": [
    "\n",
    "gdp = pd.read_csv('RealGDP08062020.csv')"
   ]
  },
  {
   "cell_type": "code",
   "execution_count": 65,
   "metadata": {},
   "outputs": [
    {
     "data": {
      "text/html": [
       "<div>\n",
       "<style scoped>\n",
       "    .dataframe tbody tr th:only-of-type {\n",
       "        vertical-align: middle;\n",
       "    }\n",
       "\n",
       "    .dataframe tbody tr th {\n",
       "        vertical-align: top;\n",
       "    }\n",
       "\n",
       "    .dataframe thead th {\n",
       "        text-align: right;\n",
       "    }\n",
       "</style>\n",
       "<table border=\"1\" class=\"dataframe\">\n",
       "  <thead>\n",
       "    <tr style=\"text-align: right;\">\n",
       "      <th></th>\n",
       "      <th>tyear</th>\n",
       "      <th>Period</th>\n",
       "      <th>Agriculture</th>\n",
       "      <th>CropProduction</th>\n",
       "      <th>Livestock</th>\n",
       "      <th>Forestry</th>\n",
       "      <th>Fishing</th>\n",
       "      <th>Industry</th>\n",
       "      <th>CrudePetroleumAndNaturalGas</th>\n",
       "      <th>SolidMinerals</th>\n",
       "      <th>...</th>\n",
       "      <th>FinanceAndInsurance</th>\n",
       "      <th>RealEstate</th>\n",
       "      <th>ProfessionalScientificAndTechnicalServices</th>\n",
       "      <th>AdministrativeAndSupportServicesBusinessServices</th>\n",
       "      <th>PublicAdministration</th>\n",
       "      <th>Education</th>\n",
       "      <th>HumanHealthAndSocialServices</th>\n",
       "      <th>ArtsEntertainmentAndRecreation</th>\n",
       "      <th>OtherServices</th>\n",
       "      <th>TOTAL_GDP</th>\n",
       "    </tr>\n",
       "  </thead>\n",
       "  <tbody>\n",
       "    <tr>\n",
       "      <td>0</td>\n",
       "      <td>1981</td>\n",
       "      <td>Annual</td>\n",
       "      <td>2364373.15</td>\n",
       "      <td>1854764.44</td>\n",
       "      <td>341411.50</td>\n",
       "      <td>77897.99</td>\n",
       "      <td>90299.23</td>\n",
       "      <td>6603250.12</td>\n",
       "      <td>4977416.70</td>\n",
       "      <td>67136.73</td>\n",
       "      <td>...</td>\n",
       "      <td>282170.74</td>\n",
       "      <td>1063959.81</td>\n",
       "      <td>421381.98</td>\n",
       "      <td>3234.81</td>\n",
       "      <td>807075.54</td>\n",
       "      <td>242555.85</td>\n",
       "      <td>110697.65</td>\n",
       "      <td>4561.07</td>\n",
       "      <td>132700.20</td>\n",
       "      <td>15258004.34</td>\n",
       "    </tr>\n",
       "    <tr>\n",
       "      <td>1</td>\n",
       "      <td>1982</td>\n",
       "      <td>Annual</td>\n",
       "      <td>2425960.89</td>\n",
       "      <td>1897078.85</td>\n",
       "      <td>361115.70</td>\n",
       "      <td>73910.25</td>\n",
       "      <td>93856.08</td>\n",
       "      <td>6272828.03</td>\n",
       "      <td>4453093.63</td>\n",
       "      <td>54840.50</td>\n",
       "      <td>...</td>\n",
       "      <td>372267.76</td>\n",
       "      <td>1074049.33</td>\n",
       "      <td>423670.54</td>\n",
       "      <td>3252.38</td>\n",
       "      <td>825921.69</td>\n",
       "      <td>248219.81</td>\n",
       "      <td>113282.57</td>\n",
       "      <td>4597.76</td>\n",
       "      <td>133767.58</td>\n",
       "      <td>14985078.32</td>\n",
       "    </tr>\n",
       "    <tr>\n",
       "      <td>2</td>\n",
       "      <td>1983</td>\n",
       "      <td>Annual</td>\n",
       "      <td>2409081.92</td>\n",
       "      <td>1842704.31</td>\n",
       "      <td>393131.01</td>\n",
       "      <td>75282.78</td>\n",
       "      <td>97963.82</td>\n",
       "      <td>5264881.39</td>\n",
       "      <td>4052977.68</td>\n",
       "      <td>44014.84</td>\n",
       "      <td>...</td>\n",
       "      <td>336896.50</td>\n",
       "      <td>1086703.98</td>\n",
       "      <td>481170.73</td>\n",
       "      <td>3693.79</td>\n",
       "      <td>844767.84</td>\n",
       "      <td>253883.77</td>\n",
       "      <td>115867.49</td>\n",
       "      <td>4324.58</td>\n",
       "      <td>125819.69</td>\n",
       "      <td>13849725.17</td>\n",
       "    </tr>\n",
       "    <tr>\n",
       "      <td>3</td>\n",
       "      <td>1984</td>\n",
       "      <td>Annual</td>\n",
       "      <td>2303505.42</td>\n",
       "      <td>1759115.15</td>\n",
       "      <td>399685.38</td>\n",
       "      <td>76694.14</td>\n",
       "      <td>68010.74</td>\n",
       "      <td>5621181.44</td>\n",
       "      <td>4559196.21</td>\n",
       "      <td>43078.37</td>\n",
       "      <td>...</td>\n",
       "      <td>267287.62</td>\n",
       "      <td>1086931.99</td>\n",
       "      <td>518359.90</td>\n",
       "      <td>3979.28</td>\n",
       "      <td>863613.99</td>\n",
       "      <td>259547.73</td>\n",
       "      <td>118452.41</td>\n",
       "      <td>3543.43</td>\n",
       "      <td>103092.67</td>\n",
       "      <td>13779255.49</td>\n",
       "    </tr>\n",
       "    <tr>\n",
       "      <td>4</td>\n",
       "      <td>1985</td>\n",
       "      <td>Annual</td>\n",
       "      <td>2731062.47</td>\n",
       "      <td>2180907.71</td>\n",
       "      <td>428102.85</td>\n",
       "      <td>78082.45</td>\n",
       "      <td>43969.46</td>\n",
       "      <td>6379599.38</td>\n",
       "      <td>4918272.50</td>\n",
       "      <td>44539.09</td>\n",
       "      <td>...</td>\n",
       "      <td>254993.44</td>\n",
       "      <td>1091378.22</td>\n",
       "      <td>602464.66</td>\n",
       "      <td>4624.92</td>\n",
       "      <td>882460.14</td>\n",
       "      <td>265211.69</td>\n",
       "      <td>121037.33</td>\n",
       "      <td>3395.55</td>\n",
       "      <td>98790.30</td>\n",
       "      <td>14953913.05</td>\n",
       "    </tr>\n",
       "  </tbody>\n",
       "</table>\n",
       "<p>5 rows × 28 columns</p>\n",
       "</div>"
      ],
      "text/plain": [
       "   tyear  Period  Agriculture  CropProduction  Livestock  Forestry   Fishing  \\\n",
       "0   1981  Annual   2364373.15      1854764.44  341411.50  77897.99  90299.23   \n",
       "1   1982  Annual   2425960.89      1897078.85  361115.70  73910.25  93856.08   \n",
       "2   1983  Annual   2409081.92      1842704.31  393131.01  75282.78  97963.82   \n",
       "3   1984  Annual   2303505.42      1759115.15  399685.38  76694.14  68010.74   \n",
       "4   1985  Annual   2731062.47      2180907.71  428102.85  78082.45  43969.46   \n",
       "\n",
       "     Industry  CrudePetroleumAndNaturalGas  SolidMinerals  ...  \\\n",
       "0  6603250.12                   4977416.70       67136.73  ...   \n",
       "1  6272828.03                   4453093.63       54840.50  ...   \n",
       "2  5264881.39                   4052977.68       44014.84  ...   \n",
       "3  5621181.44                   4559196.21       43078.37  ...   \n",
       "4  6379599.38                   4918272.50       44539.09  ...   \n",
       "\n",
       "   FinanceAndInsurance  RealEstate  \\\n",
       "0            282170.74  1063959.81   \n",
       "1            372267.76  1074049.33   \n",
       "2            336896.50  1086703.98   \n",
       "3            267287.62  1086931.99   \n",
       "4            254993.44  1091378.22   \n",
       "\n",
       "   ProfessionalScientificAndTechnicalServices  \\\n",
       "0                                   421381.98   \n",
       "1                                   423670.54   \n",
       "2                                   481170.73   \n",
       "3                                   518359.90   \n",
       "4                                   602464.66   \n",
       "\n",
       "   AdministrativeAndSupportServicesBusinessServices  PublicAdministration  \\\n",
       "0                                           3234.81             807075.54   \n",
       "1                                           3252.38             825921.69   \n",
       "2                                           3693.79             844767.84   \n",
       "3                                           3979.28             863613.99   \n",
       "4                                           4624.92             882460.14   \n",
       "\n",
       "   Education  HumanHealthAndSocialServices  ArtsEntertainmentAndRecreation  \\\n",
       "0  242555.85                     110697.65                         4561.07   \n",
       "1  248219.81                     113282.57                         4597.76   \n",
       "2  253883.77                     115867.49                         4324.58   \n",
       "3  259547.73                     118452.41                         3543.43   \n",
       "4  265211.69                     121037.33                         3395.55   \n",
       "\n",
       "   OtherServices    TOTAL_GDP  \n",
       "0      132700.20  15258004.34  \n",
       "1      133767.58  14985078.32  \n",
       "2      125819.69  13849725.17  \n",
       "3      103092.67  13779255.49  \n",
       "4       98790.30  14953913.05  \n",
       "\n",
       "[5 rows x 28 columns]"
      ]
     },
     "execution_count": 65,
     "metadata": {},
     "output_type": "execute_result"
    }
   ],
   "source": [
    "gdp.head()"
   ]
  },
  {
   "cell_type": "code",
   "execution_count": 66,
   "metadata": {},
   "outputs": [],
   "source": [
    "ref = gdp[['tyear','Forestry','Fishing','Livestock']]"
   ]
  },
  {
   "cell_type": "code",
   "execution_count": 67,
   "metadata": {},
   "outputs": [
    {
     "data": {
      "text/html": [
       "<div>\n",
       "<style scoped>\n",
       "    .dataframe tbody tr th:only-of-type {\n",
       "        vertical-align: middle;\n",
       "    }\n",
       "\n",
       "    .dataframe tbody tr th {\n",
       "        vertical-align: top;\n",
       "    }\n",
       "\n",
       "    .dataframe thead th {\n",
       "        text-align: right;\n",
       "    }\n",
       "</style>\n",
       "<table border=\"1\" class=\"dataframe\">\n",
       "  <thead>\n",
       "    <tr style=\"text-align: right;\">\n",
       "      <th></th>\n",
       "      <th>tyear</th>\n",
       "      <th>Forestry</th>\n",
       "      <th>Fishing</th>\n",
       "      <th>Livestock</th>\n",
       "    </tr>\n",
       "  </thead>\n",
       "  <tbody>\n",
       "    <tr>\n",
       "      <td>0</td>\n",
       "      <td>1981</td>\n",
       "      <td>77897.99</td>\n",
       "      <td>90299.23</td>\n",
       "      <td>341411.50</td>\n",
       "    </tr>\n",
       "    <tr>\n",
       "      <td>1</td>\n",
       "      <td>1982</td>\n",
       "      <td>73910.25</td>\n",
       "      <td>93856.08</td>\n",
       "      <td>361115.70</td>\n",
       "    </tr>\n",
       "    <tr>\n",
       "      <td>2</td>\n",
       "      <td>1983</td>\n",
       "      <td>75282.78</td>\n",
       "      <td>97963.82</td>\n",
       "      <td>393131.01</td>\n",
       "    </tr>\n",
       "    <tr>\n",
       "      <td>3</td>\n",
       "      <td>1984</td>\n",
       "      <td>76694.14</td>\n",
       "      <td>68010.74</td>\n",
       "      <td>399685.38</td>\n",
       "    </tr>\n",
       "    <tr>\n",
       "      <td>4</td>\n",
       "      <td>1985</td>\n",
       "      <td>78082.45</td>\n",
       "      <td>43969.46</td>\n",
       "      <td>428102.85</td>\n",
       "    </tr>\n",
       "  </tbody>\n",
       "</table>\n",
       "</div>"
      ],
      "text/plain": [
       "   tyear  Forestry   Fishing  Livestock\n",
       "0   1981  77897.99  90299.23  341411.50\n",
       "1   1982  73910.25  93856.08  361115.70\n",
       "2   1983  75282.78  97963.82  393131.01\n",
       "3   1984  76694.14  68010.74  399685.38\n",
       "4   1985  78082.45  43969.46  428102.85"
      ]
     },
     "execution_count": 67,
     "metadata": {},
     "output_type": "execute_result"
    }
   ],
   "source": [
    "ref.head()"
   ]
  },
  {
   "cell_type": "code",
   "execution_count": 68,
   "metadata": {},
   "outputs": [],
   "source": [
    "live = mt.floor(sum(ref['Livestock']))/100000\n",
    "fish =  mt.floor(sum(ref['Fishing']))/100000\n",
    "fore = mt.floor(sum(ref['Forestry']))/100000\n",
    "\n",
    "\n",
    "data = [live,fish,fore]\n",
    "dim = 'Livestock','Fishing','Forestry',"
   ]
  },
  {
   "cell_type": "code",
   "execution_count": 69,
   "metadata": {},
   "outputs": [
    {
     "data": {
      "text/plain": [
       "('Livestock', 'Fishing', 'Forestry')"
      ]
     },
     "execution_count": 69,
     "metadata": {},
     "output_type": "execute_result"
    }
   ],
   "source": [
    "dim"
   ]
  },
  {
   "cell_type": "code",
   "execution_count": 71,
   "metadata": {},
   "outputs": [
    {
     "data": {
      "image/png": "[encoded data removed]",
      "text/plain": [
       "<Figure size 576x432 with 1 Axes>"
      ]
     },
     "metadata": {},
     "output_type": "display_data"
    }
   ],
   "source": [
    "plt.style.use(\"fivethirtyeight\")\n",
    "fg,ax = plt.subplots(figsize=(8,6))\n",
    "ax.set_facecolor('orange')\n",
    "ax.bar(dim,data, color='gray')\n",
    "\n",
    "plt.show()"
   ]
  },
  {
   "cell_type": "code",
   "execution_count": 85,
   "metadata": {},
   "outputs": [
    {
     "data": {
      "image/png": "[encoded data removed]",
      "text/plain": [
       "<Figure size 432x288 with 1 Axes>"
      ]
     },
     "metadata": {},
     "output_type": "display_data"
    },
    {
     "data": {
      "text/plain": [
       "<Figure size 432x288 with 0 Axes>"
      ]
     },
     "metadata": {},
     "output_type": "display_data"
    }
   ],
   "source": [
    "age = [23,24,25,26,27,28]\n",
    "indexes = np.arange(len(age))\n",
    "width = 0.25\n",
    "java = [45000,50000,60000,65000,70000,75000]\n",
    "plt.bar(indexes - width,java,color='orange',width=width,label='java')\n",
    "python = [35000,55000,65000,70000,75000,80000]\n",
    "plt.bar(indexes,python,color='blue',width=width,label='python')\n",
    "php = [40000,50000,60000,70000,80000,90000]\n",
    "plt.bar(indexes + width,php,color='gray',width=width,label='php')\n",
    "\n",
    "plt.xticks(ticks=indexes,labels=age)\n",
    "plt.legend()\n",
    "plt.show()\n",
    "plt.savefig('barchart.jpg',dpi=600)"
   ]
  },
  {
   "cell_type": "code",
   "execution_count": null,
   "metadata": {},
   "outputs": [],
   "source": []
  }
 ],
 "metadata": {
  "kernelspec": {
   "display_name": "Python 3",
   "language": "python",
   "name": "python3"
  },
  "language_info": {
   "codemirror_mode": {
    "name": "ipython",
    "version": 3
   },
   "file_extension": ".py",
   "mimetype": "text/x-python",
   "name": "python",
   "nbconvert_exporter": "python",
   "pygments_lexer": "ipython3",
   "version": "3.7.4"
  }
 },
 "nbformat": 4,
 "nbformat_minor": 2
}
