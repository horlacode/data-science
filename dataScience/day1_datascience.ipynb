{
 "cells": [
  {
   "cell_type": "code",
   "execution_count": 4,
   "metadata": {},
   "outputs": [],
   "source": [
    "import numpy as np"
   ]
  },
  {
   "cell_type": "code",
   "execution_count": 5,
   "metadata": {},
   "outputs": [],
   "source": [
    "li = [1,2,3,4]\n",
    "li2 = [[1,2,3],[4,5,6]]"
   ]
  },
  {
   "cell_type": "code",
   "execution_count": 6,
   "metadata": {},
   "outputs": [
    {
     "data": {
      "text/plain": [
       "array([1, 2, 3, 4])"
      ]
     },
     "execution_count": 6,
     "metadata": {},
     "output_type": "execute_result"
    }
   ],
   "source": [
    "np.array(li)"
   ]
  },
  {
   "cell_type": "code",
   "execution_count": 7,
   "metadata": {},
   "outputs": [
    {
     "data": {
      "text/plain": [
       "array([[1, 2, 3],\n",
       "       [4, 5, 6]])"
      ]
     },
     "execution_count": 7,
     "metadata": {},
     "output_type": "execute_result"
    }
   ],
   "source": [
    "np.array(li2)"
   ]
  },
  {
   "cell_type": "code",
   "execution_count": 8,
   "metadata": {},
   "outputs": [
    {
     "data": {
      "text/plain": [
       "array([ 1,  2,  3,  4,  5,  6,  7,  8,  9, 10])"
      ]
     },
     "execution_count": 8,
     "metadata": {},
     "output_type": "execute_result"
    }
   ],
   "source": [
    "#creating arrays with numpy methods\n",
    "#with arange method\n",
    "\n",
    "np.arange(1,11)"
   ]
  },
  {
   "cell_type": "code",
   "execution_count": 9,
   "metadata": {},
   "outputs": [
    {
     "data": {
      "text/plain": [
       "array([1, 3, 5, 7, 9])"
      ]
     },
     "execution_count": 9,
     "metadata": {},
     "output_type": "execute_result"
    }
   ],
   "source": [
    "np.arange(1,11,2)"
   ]
  },
  {
   "cell_type": "code",
   "execution_count": 10,
   "metadata": {},
   "outputs": [
    {
     "data": {
      "text/plain": [
       "array([  1,   3,   5,   7,   9,  11,  13,  15,  17,  19,  21,  23,  25,\n",
       "        27,  29,  31,  33,  35,  37,  39,  41,  43,  45,  47,  49,  51,\n",
       "        53,  55,  57,  59,  61,  63,  65,  67,  69,  71,  73,  75,  77,\n",
       "        79,  81,  83,  85,  87,  89,  91,  93,  95,  97,  99, 101, 103,\n",
       "       105, 107, 109, 111, 113, 115, 117, 119, 121, 123, 125, 127, 129,\n",
       "       131, 133, 135, 137, 139, 141, 143, 145, 147, 149, 151, 153, 155,\n",
       "       157, 159, 161, 163, 165, 167, 169, 171, 173, 175, 177, 179, 181,\n",
       "       183, 185, 187, 189, 191, 193, 195, 197, 199, 201, 203, 205, 207,\n",
       "       209, 211, 213, 215, 217, 219, 221, 223, 225, 227, 229, 231, 233,\n",
       "       235, 237, 239, 241, 243, 245, 247, 249, 251, 253, 255, 257, 259,\n",
       "       261, 263, 265, 267, 269, 271, 273, 275, 277, 279, 281, 283, 285,\n",
       "       287, 289, 291, 293, 295, 297, 299, 301, 303, 305, 307, 309, 311,\n",
       "       313, 315, 317, 319, 321, 323, 325, 327, 329, 331, 333, 335, 337,\n",
       "       339, 341, 343, 345, 347, 349, 351, 353, 355, 357, 359, 361, 363,\n",
       "       365, 367, 369, 371, 373, 375, 377, 379, 381, 383, 385, 387, 389,\n",
       "       391, 393, 395, 397, 399, 401, 403, 405, 407, 409, 411, 413, 415,\n",
       "       417, 419, 421, 423, 425, 427, 429, 431, 433, 435, 437, 439, 441,\n",
       "       443, 445, 447, 449, 451, 453, 455, 457, 459, 461, 463, 465, 467,\n",
       "       469, 471, 473, 475, 477, 479, 481, 483, 485, 487, 489, 491, 493,\n",
       "       495, 497, 499, 501, 503, 505, 507, 509, 511, 513, 515, 517, 519,\n",
       "       521, 523, 525, 527, 529, 531, 533, 535, 537, 539, 541, 543, 545,\n",
       "       547, 549, 551, 553, 555, 557, 559, 561, 563, 565, 567, 569, 571,\n",
       "       573, 575, 577, 579, 581, 583, 585, 587, 589, 591, 593, 595, 597,\n",
       "       599, 601, 603, 605, 607, 609, 611, 613, 615, 617, 619, 621, 623,\n",
       "       625, 627, 629, 631, 633, 635, 637, 639, 641, 643, 645, 647, 649,\n",
       "       651, 653, 655, 657, 659, 661, 663, 665, 667, 669, 671, 673, 675,\n",
       "       677, 679, 681, 683, 685, 687, 689, 691, 693, 695, 697, 699, 701,\n",
       "       703, 705, 707, 709, 711, 713, 715, 717, 719, 721, 723, 725, 727,\n",
       "       729, 731, 733, 735, 737, 739, 741, 743, 745, 747, 749, 751, 753,\n",
       "       755, 757, 759, 761, 763, 765, 767, 769, 771, 773, 775, 777, 779,\n",
       "       781, 783, 785, 787, 789, 791, 793, 795, 797, 799, 801, 803, 805,\n",
       "       807, 809, 811, 813, 815, 817, 819, 821, 823, 825, 827, 829, 831,\n",
       "       833, 835, 837, 839, 841, 843, 845, 847, 849, 851, 853, 855, 857,\n",
       "       859, 861, 863, 865, 867, 869, 871, 873, 875, 877, 879, 881, 883,\n",
       "       885, 887, 889, 891, 893, 895, 897, 899, 901, 903, 905, 907, 909,\n",
       "       911, 913, 915, 917, 919, 921, 923, 925, 927, 929, 931, 933, 935,\n",
       "       937, 939, 941, 943, 945, 947, 949, 951, 953, 955, 957, 959, 961,\n",
       "       963, 965, 967, 969, 971, 973, 975, 977, 979, 981, 983, 985, 987,\n",
       "       989, 991, 993, 995, 997, 999])"
      ]
     },
     "execution_count": 10,
     "metadata": {},
     "output_type": "execute_result"
    }
   ],
   "source": [
    "np.arange(1,1000,2)"
   ]
  },
  {
   "cell_type": "code",
   "execution_count": 11,
   "metadata": {},
   "outputs": [
    {
     "data": {
      "text/plain": [
       "array([1.        , 1.08163265, 1.16326531, 1.24489796, 1.32653061,\n",
       "       1.40816327, 1.48979592, 1.57142857, 1.65306122, 1.73469388,\n",
       "       1.81632653, 1.89795918, 1.97959184, 2.06122449, 2.14285714,\n",
       "       2.2244898 , 2.30612245, 2.3877551 , 2.46938776, 2.55102041,\n",
       "       2.63265306, 2.71428571, 2.79591837, 2.87755102, 2.95918367,\n",
       "       3.04081633, 3.12244898, 3.20408163, 3.28571429, 3.36734694,\n",
       "       3.44897959, 3.53061224, 3.6122449 , 3.69387755, 3.7755102 ,\n",
       "       3.85714286, 3.93877551, 4.02040816, 4.10204082, 4.18367347,\n",
       "       4.26530612, 4.34693878, 4.42857143, 4.51020408, 4.59183673,\n",
       "       4.67346939, 4.75510204, 4.83673469, 4.91836735, 5.        ])"
      ]
     },
     "execution_count": 11,
     "metadata": {},
     "output_type": "execute_result"
    }
   ],
   "source": [
    "#with linspace which will generate 50 numbers\n",
    "np.linspace(1,5)"
   ]
  },
  {
   "cell_type": "code",
   "execution_count": 12,
   "metadata": {},
   "outputs": [
    {
     "data": {
      "text/plain": [
       "array([1.        , 1.11111111, 1.22222222, 1.33333333, 1.44444444,\n",
       "       1.55555556, 1.66666667, 1.77777778, 1.88888889, 2.        ])"
      ]
     },
     "execution_count": 12,
     "metadata": {},
     "output_type": "execute_result"
    }
   ],
   "source": [
    "#with linspace which will generate 50 numbers\n",
    "np.linspace(1,2,10) # 3rd argument is for the number of value"
   ]
  },
  {
   "cell_type": "code",
   "execution_count": 14,
   "metadata": {},
   "outputs": [],
   "source": [
    "from numpy import random"
   ]
  },
  {
   "cell_type": "code",
   "execution_count": 15,
   "metadata": {},
   "outputs": [
    {
     "data": {
      "text/plain": [
       "0.7289730383247192"
      ]
     },
     "execution_count": 15,
     "metadata": {},
     "output_type": "execute_result"
    }
   ],
   "source": [
    "np.random.rand() #this gets a float random number"
   ]
  },
  {
   "cell_type": "code",
   "execution_count": 16,
   "metadata": {},
   "outputs": [
    {
     "data": {
      "text/plain": [
       "array([55, 33, 30, 34, 22, 67, 47, 19, 36, 46, 19, 85, 55,  5, 77, 45, 77,\n",
       "       77, 87, 95, 68, 17, 61, 13, 95, 78, 52, 73, 32, 74,  6, 44, 62, 28,\n",
       "       23, 74, 31,  5, 81,  3, 95, 82, 96, 91,  8, 37, 10, 78, 73, 25])"
      ]
     },
     "execution_count": 16,
     "metadata": {},
     "output_type": "execute_result"
    }
   ],
   "source": [
    "#to get a int random number\n",
    "np.random.randint(1,99,50)"
   ]
  },
  {
   "cell_type": "code",
   "execution_count": 16,
   "metadata": {},
   "outputs": [],
   "source": [
    "rate = np.random.randint(100,1000,15)"
   ]
  },
  {
   "cell_type": "code",
   "execution_count": 17,
   "metadata": {},
   "outputs": [],
   "source": [
    "import statistics as st\n"
   ]
  },
  {
   "cell_type": "code",
   "execution_count": 18,
   "metadata": {},
   "outputs": [
    {
     "data": {
      "text/plain": [
       "505"
      ]
     },
     "execution_count": 18,
     "metadata": {},
     "output_type": "execute_result"
    }
   ],
   "source": [
    "st.mean(rate)"
   ]
  },
  {
   "cell_type": "code",
   "execution_count": 24,
   "metadata": {},
   "outputs": [
    {
     "data": {
      "text/plain": [
       "195.13328778042973"
      ]
     },
     "execution_count": 24,
     "metadata": {},
     "output_type": "execute_result"
    }
   ],
   "source": [
    "st.stdev(rate)"
   ]
  },
  {
   "cell_type": "code",
   "execution_count": 26,
   "metadata": {},
   "outputs": [
    {
     "data": {
      "text/plain": [
       "519"
      ]
     },
     "execution_count": 26,
     "metadata": {},
     "output_type": "execute_result"
    }
   ],
   "source": [
    "st.median(rate)"
   ]
  },
  {
   "cell_type": "code",
   "execution_count": 27,
   "metadata": {},
   "outputs": [
    {
     "data": {
      "text/plain": [
       "841"
      ]
     },
     "execution_count": 27,
     "metadata": {},
     "output_type": "execute_result"
    }
   ],
   "source": [
    "max(rate)"
   ]
  },
  {
   "cell_type": "code",
   "execution_count": 28,
   "metadata": {},
   "outputs": [
    {
     "data": {
      "text/plain": [
       "174"
      ]
     },
     "execution_count": 28,
     "metadata": {},
     "output_type": "execute_result"
    }
   ],
   "source": [
    "min(rate)"
   ]
  },
  {
   "cell_type": "code",
   "execution_count": null,
   "metadata": {},
   "outputs": [],
   "source": [
    "st."
   ]
  }
 ],
 "metadata": {
  "kernelspec": {
   "display_name": "Python 3",
   "language": "python",
   "name": "python3"
  },
  "language_info": {
   "codemirror_mode": {
    "name": "ipython",
    "version": 3
   },
   "file_extension": ".py",
   "mimetype": "text/x-python",
   "name": "python",
   "nbconvert_exporter": "python",
   "pygments_lexer": "ipython3",
   "version": "3.7.4"
  }
 },
 "nbformat": 4,
 "nbformat_minor": 2
}
